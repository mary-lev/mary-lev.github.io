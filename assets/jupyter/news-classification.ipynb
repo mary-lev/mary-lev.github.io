{
 "cells": [
  {
   "cell_type": "markdown",
   "id": "5e9a6300",
   "metadata": {
    "papermill": {
     "duration": 0.003808,
     "end_time": "2024-01-08T13:33:31.295341",
     "exception": false,
     "start_time": "2024-01-08T13:33:31.291533",
     "status": "completed"
    },
    "tags": []
   },
   "source": [
    "# Lenta.Ru parsing"
   ]
  },
  {
   "cell_type": "code",
   "execution_count": 1,
   "id": "ca1574f3",
   "metadata": {
    "execution": {
     "iopub.execute_input": "2024-01-08T13:33:31.304694Z",
     "iopub.status.busy": "2024-01-08T13:33:31.304303Z",
     "iopub.status.idle": "2024-01-08T13:34:04.655959Z",
     "shell.execute_reply": "2024-01-08T13:34:04.654703Z"
    },
    "papermill": {
     "duration": 33.359604,
     "end_time": "2024-01-08T13:34:04.658760",
     "exception": false,
     "start_time": "2024-01-08T13:33:31.299156",
     "status": "completed"
    },
    "tags": []
   },
   "outputs": [],
   "source": [
    "import pandas as pd\n",
    "df = pd.read_csv('/kaggle/input/news-dataset-from-lenta-ru-2019-2023/lenta_ru_news_2019_2023.csv')\n"
   ]
  },
  {
   "cell_type": "code",
   "execution_count": 2,
   "id": "a58ea758",
   "metadata": {
    "execution": {
     "iopub.execute_input": "2024-01-08T13:34:04.667729Z",
     "iopub.status.busy": "2024-01-08T13:34:04.667336Z",
     "iopub.status.idle": "2024-01-08T13:34:04.673730Z",
     "shell.execute_reply": "2024-01-08T13:34:04.672462Z"
    },
    "papermill": {
     "duration": 0.013833,
     "end_time": "2024-01-08T13:34:04.676279",
     "exception": false,
     "start_time": "2024-01-08T13:34:04.662446",
     "status": "completed"
    },
    "tags": []
   },
   "outputs": [],
   "source": [
    "lenta_topics = {\n",
    "    \"Россия\": 0,\n",
    "    \"Экономика\": 1,\n",
    "    \"Силовые структуры\": 2,\n",
    "    \"Бывший СССР\": 3,\n",
    "    \"Спорт\": 4,\n",
    "    \"Забота о себе\": 5,\n",
    "    \"Здоровье\": 5,\n",
    "    \"Строительство\": 6,\n",
    "    \"Путешествия\": 7,\n",
    "    \"Наука и техника\": 8,\n",
    "    \"Интернет и СМИ\": 0,\n",
    "    \"Бизнес\": 1,\n",
    "    }"
   ]
  },
  {
   "cell_type": "code",
   "execution_count": 3,
   "id": "a5ad0302",
   "metadata": {
    "execution": {
     "iopub.execute_input": "2024-01-08T13:34:04.685504Z",
     "iopub.status.busy": "2024-01-08T13:34:04.685102Z",
     "iopub.status.idle": "2024-01-08T13:34:05.298897Z",
     "shell.execute_reply": "2024-01-08T13:34:05.297592Z"
    },
    "papermill": {
     "duration": 0.621486,
     "end_time": "2024-01-08T13:34:05.301595",
     "exception": false,
     "start_time": "2024-01-08T13:34:04.680109",
     "status": "completed"
    },
    "tags": []
   },
   "outputs": [],
   "source": [
    "df[\"number\"] = df[\"topic\"].apply(lambda x: lenta_topics[x] if x in lenta_topics else None)\n",
    "df = df.dropna(subset=['number'])\n",
    "df = df.dropna(subset=['text'])\n",
    "\n",
    "df[\"number\"] = df[\"number\"].apply(lambda x: int(x))"
   ]
  },
  {
   "cell_type": "code",
   "execution_count": 4,
   "id": "8722a1d0",
   "metadata": {
    "execution": {
     "iopub.execute_input": "2024-01-08T13:34:05.311439Z",
     "iopub.status.busy": "2024-01-08T13:34:05.310588Z",
     "iopub.status.idle": "2024-01-08T13:34:05.329127Z",
     "shell.execute_reply": "2024-01-08T13:34:05.327869Z"
    },
    "papermill": {
     "duration": 0.026587,
     "end_time": "2024-01-08T13:34:05.331894",
     "exception": false,
     "start_time": "2024-01-08T13:34:05.305307",
     "status": "completed"
    },
    "tags": []
   },
   "outputs": [
    {
     "data": {
      "text/plain": [
       "number\n",
       "0    118456\n",
       "3     51071\n",
       "1     49015\n",
       "2     30249\n",
       "4     28442\n",
       "8     25209\n",
       "7     19308\n",
       "5      7589\n",
       "Name: count, dtype: int64"
      ]
     },
     "execution_count": 4,
     "metadata": {},
     "output_type": "execute_result"
    }
   ],
   "source": [
    "df['number'].value_counts()"
   ]
  },
  {
   "cell_type": "markdown",
   "id": "45fe3e6b",
   "metadata": {
    "papermill": {
     "duration": 0.003337,
     "end_time": "2024-01-08T13:34:05.339178",
     "exception": false,
     "start_time": "2024-01-08T13:34:05.335841",
     "status": "completed"
    },
    "tags": []
   },
   "source": [
    "# CountVectorizer Train"
   ]
  },
  {
   "cell_type": "code",
   "execution_count": 5,
   "id": "b38bb50d",
   "metadata": {
    "execution": {
     "iopub.execute_input": "2024-01-08T13:34:05.347851Z",
     "iopub.status.busy": "2024-01-08T13:34:05.347447Z",
     "iopub.status.idle": "2024-01-08T13:34:06.792640Z",
     "shell.execute_reply": "2024-01-08T13:34:06.791177Z"
    },
    "papermill": {
     "duration": 1.453652,
     "end_time": "2024-01-08T13:34:06.796327",
     "exception": false,
     "start_time": "2024-01-08T13:34:05.342675",
     "status": "completed"
    },
    "tags": []
   },
   "outputs": [],
   "source": [
    "from sklearn.linear_model import LogisticRegression\n",
    "from sklearn.metrics import classification_report\n",
    "from sklearn.model_selection import train_test_split\n",
    "from sklearn.preprocessing import MaxAbsScaler\n",
    "from sklearn.feature_extraction.text import CountVectorizer\n",
    "from sklearn.feature_extraction.text import TfidfVectorizer"
   ]
  },
  {
   "cell_type": "code",
   "execution_count": 6,
   "id": "96938606",
   "metadata": {
    "execution": {
     "iopub.execute_input": "2024-01-08T13:34:06.807198Z",
     "iopub.status.busy": "2024-01-08T13:34:06.806727Z",
     "iopub.status.idle": "2024-01-08T13:34:06.889245Z",
     "shell.execute_reply": "2024-01-08T13:34:06.887570Z"
    },
    "papermill": {
     "duration": 0.091702,
     "end_time": "2024-01-08T13:34:06.892050",
     "exception": false,
     "start_time": "2024-01-08T13:34:06.800348",
     "status": "completed"
    },
    "tags": []
   },
   "outputs": [],
   "source": [
    "x_train, x_test, y_train, y_test = train_test_split(df.text, df.number, random_state=13)"
   ]
  },
  {
   "cell_type": "code",
   "execution_count": 7,
   "id": "ae230eb3",
   "metadata": {
    "execution": {
     "iopub.execute_input": "2024-01-08T13:34:06.901219Z",
     "iopub.status.busy": "2024-01-08T13:34:06.900831Z",
     "iopub.status.idle": "2024-01-08T13:46:13.831651Z",
     "shell.execute_reply": "2024-01-08T13:46:13.830240Z"
    },
    "papermill": {
     "duration": 726.941808,
     "end_time": "2024-01-08T13:46:13.837694",
     "exception": false,
     "start_time": "2024-01-08T13:34:06.895886",
     "status": "completed"
    },
    "tags": []
   },
   "outputs": [
    {
     "name": "stdout",
     "output_type": "stream",
     "text": [
      "              precision    recall  f1-score   support\n",
      "\n",
      "           0       0.89      0.92      0.90     29468\n",
      "           1       0.93      0.92      0.92     12283\n",
      "           2       0.93      0.91      0.92      7726\n",
      "           3       0.90      0.89      0.90     12852\n",
      "           4       0.99      0.99      0.99      7030\n",
      "           5       0.93      0.87      0.90      1861\n",
      "           7       0.96      0.92      0.94      4788\n",
      "           8       0.95      0.91      0.93      6327\n",
      "\n",
      "    accuracy                           0.92     82335\n",
      "   macro avg       0.93      0.92      0.93     82335\n",
      "weighted avg       0.92      0.92      0.92     82335\n",
      "\n"
     ]
    }
   ],
   "source": [
    "vec = CountVectorizer(ngram_range=(1, 1))\n",
    "\n",
    "bow = vec.fit_transform(x_train)\n",
    "bow_test = vec.transform(x_test)\n",
    "\n",
    "scaler = MaxAbsScaler()\n",
    "bow = scaler.fit_transform(bow)\n",
    "bow_test = scaler.transform(bow_test)\n",
    "\n",
    "clf = LogisticRegression(max_iter=500, random_state=42)\n",
    "clf.fit(bow, y_train)\n",
    "pred = clf.predict(bow_test)\n",
    "\n",
    "print(classification_report(y_test, pred))"
   ]
  },
  {
   "cell_type": "markdown",
   "id": "7f008842",
   "metadata": {
    "papermill": {
     "duration": 0.003453,
     "end_time": "2024-01-08T13:46:13.844911",
     "exception": false,
     "start_time": "2024-01-08T13:46:13.841458",
     "status": "completed"
    },
    "tags": []
   },
   "source": [
    "# TFIDF Train"
   ]
  },
  {
   "cell_type": "code",
   "execution_count": 8,
   "id": "16470e2f",
   "metadata": {
    "execution": {
     "iopub.execute_input": "2024-01-08T13:46:13.854687Z",
     "iopub.status.busy": "2024-01-08T13:46:13.853800Z",
     "iopub.status.idle": "2024-01-08T13:46:14.446679Z",
     "shell.execute_reply": "2024-01-08T13:46:14.445585Z"
    },
    "papermill": {
     "duration": 0.600543,
     "end_time": "2024-01-08T13:46:14.449157",
     "exception": false,
     "start_time": "2024-01-08T13:46:13.848614",
     "status": "completed"
    },
    "tags": []
   },
   "outputs": [
    {
     "name": "stdout",
     "output_type": "stream",
     "text": [
      "[nltk_data] Downloading package stopwords to /usr/share/nltk_data...\n",
      "[nltk_data]   Package stopwords is already up-to-date!\n"
     ]
    }
   ],
   "source": [
    "import nltk\n",
    "from nltk.corpus import stopwords\n",
    "\n",
    "nltk.download('stopwords')\n",
    "\n",
    "russian_stopwords = stopwords.words('russian')"
   ]
  },
  {
   "cell_type": "code",
   "execution_count": 9,
   "id": "826c28e1",
   "metadata": {
    "execution": {
     "iopub.execute_input": "2024-01-08T13:46:14.459545Z",
     "iopub.status.busy": "2024-01-08T13:46:14.458632Z",
     "iopub.status.idle": "2024-01-08T14:13:24.740603Z",
     "shell.execute_reply": "2024-01-08T14:13:24.738960Z"
    },
    "papermill": {
     "duration": 1630.296563,
     "end_time": "2024-01-08T14:13:24.749801",
     "exception": false,
     "start_time": "2024-01-08T13:46:14.453238",
     "status": "completed"
    },
    "tags": []
   },
   "outputs": [
    {
     "name": "stdout",
     "output_type": "stream",
     "text": [
      "              precision    recall  f1-score   support\n",
      "\n",
      "           0       0.91      0.93      0.92     29468\n",
      "           1       0.93      0.93      0.93     12283\n",
      "           2       0.94      0.91      0.93      7726\n",
      "           3       0.92      0.92      0.92     12852\n",
      "           4       0.99      0.99      0.99      7030\n",
      "           5       0.94      0.91      0.92      1861\n",
      "           7       0.97      0.93      0.95      4788\n",
      "           8       0.96      0.92      0.94      6327\n",
      "\n",
      "    accuracy                           0.93     82335\n",
      "   macro avg       0.94      0.93      0.94     82335\n",
      "weighted avg       0.93      0.93      0.93     82335\n",
      "\n"
     ]
    }
   ],
   "source": [
    "tfidf = TfidfVectorizer(min_df=5, max_df=0.7, ngram_range=(1, 3), stop_words=russian_stopwords)\n",
    "\n",
    "bow = tfidf.fit_transform(x_train)\n",
    "bow_test = tfidf.transform(x_test)\n",
    "\n",
    "scaler = MaxAbsScaler()\n",
    "bow = scaler.fit_transform(bow)\n",
    "bow_test = scaler.transform(bow_test)\n",
    "\n",
    "model = LogisticRegression(max_iter=200, random_state=42)\n",
    "model.fit(bow, y_train)\n",
    "tf_pred = model.predict(bow_test)\n",
    "\n",
    "print(classification_report(y_test, tf_pred))"
   ]
  }
 ],
 "metadata": {
  "kaggle": {
   "accelerator": "none",
   "dataSources": [
    {
     "datasetId": 4276920,
     "sourceId": 7362604,
     "sourceType": "datasetVersion"
    }
   ],
   "dockerImageVersionId": 30626,
   "isGpuEnabled": false,
   "isInternetEnabled": true,
   "language": "python",
   "sourceType": "notebook"
  },
  "kernelspec": {
   "display_name": "Python 3",
   "language": "python",
   "name": "python3"
  },
  "language_info": {
   "codemirror_mode": {
    "name": "ipython",
    "version": 3
   },
   "file_extension": ".py",
   "mimetype": "text/x-python",
   "name": "python",
   "nbconvert_exporter": "python",
   "pygments_lexer": "ipython3",
   "version": "3.10.12"
  },
  "papermill": {
   "default_parameters": {},
   "duration": 2399.724019,
   "end_time": "2024-01-08T14:13:27.883175",
   "environment_variables": {},
   "exception": null,
   "input_path": "__notebook__.ipynb",
   "output_path": "__notebook__.ipynb",
   "parameters": {},
   "start_time": "2024-01-08T13:33:28.159156",
   "version": "2.4.0"
  }
 },
 "nbformat": 4,
 "nbformat_minor": 5
}
